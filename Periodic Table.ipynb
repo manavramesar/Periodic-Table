{
 "cells": [
  {
   "cell_type": "code",
   "execution_count": 1,
   "id": "cfb9a9d0",
   "metadata": {
    "scrolled": true
   },
   "outputs": [
    {
     "name": "stdout",
     "output_type": "stream",
     "text": [
      "Collecting periodictable\n",
      "  Obtaining dependency information for periodictable from https://files.pythonhosted.org/packages/a4/96/c4e319e39c458b222c8f2fd84549ecf1d1b2fcfd38e4297a9cc63317a27b/periodictable-1.6.1-py2.py3-none-any.whl.metadata\n",
      "  Downloading periodictable-1.6.1-py2.py3-none-any.whl.metadata (9.8 kB)\n",
      "Requirement already satisfied: pyparsing in c:\\users\\manav\\anaconda3\\lib\\site-packages (from periodictable) (3.0.9)\n",
      "Requirement already satisfied: numpy in c:\\users\\manav\\anaconda3\\lib\\site-packages (from periodictable) (1.24.3)\n",
      "Downloading periodictable-1.6.1-py2.py3-none-any.whl (752 kB)\n",
      "   ---------------------------------------- 0.0/752.5 kB ? eta -:--:--\n",
      "   ---------------------------------------- 0.0/752.5 kB ? eta -:--:--\n",
      "    --------------------------------------- 10.2/752.5 kB ? eta -:--:--\n",
      "    --------------------------------------- 10.2/752.5 kB ? eta -:--:--\n",
      "   - ------------------------------------- 30.7/752.5 kB 217.9 kB/s eta 0:00:04\n",
      "   --- ----------------------------------- 71.7/752.5 kB 393.8 kB/s eta 0:00:02\n",
      "   ---------------- ----------------------- 307.2/752.5 kB 1.4 MB/s eta 0:00:01\n",
      "   ---------------------------------------- 752.5/752.5 kB 3.0 MB/s eta 0:00:00\n",
      "Installing collected packages: periodictable\n",
      "Successfully installed periodictable-1.6.1\n",
      "Note: you may need to restart the kernel to use updated packages.\n"
     ]
    }
   ],
   "source": [
    "pip install periodictable"
   ]
  },
  {
   "cell_type": "code",
   "execution_count": 4,
   "id": "939f7022",
   "metadata": {},
   "outputs": [],
   "source": [
    "import periodictable"
   ]
  },
  {
   "cell_type": "code",
   "execution_count": null,
   "id": "16131c40",
   "metadata": {},
   "outputs": [],
   "source": [
    "x = int(input(\"Enter Element Atomic Number: \"))\n",
    "element = periodictable.elements[x]\n",
    "\n",
    "print('Symbol:', element.symbol)\n",
    "print('Name:', element.name)\n",
    "print('Atomic Mass:', element.mass)\n",
    "print('Density:', element.density)"
   ]
  },
  {
   "cell_type": "code",
   "execution_count": null,
   "id": "7d0f2486",
   "metadata": {},
   "outputs": [],
   "source": []
  }
 ],
 "metadata": {
  "kernelspec": {
   "display_name": "Python 3 (ipykernel)",
   "language": "python",
   "name": "python3"
  },
  "language_info": {
   "codemirror_mode": {
    "name": "ipython",
    "version": 3
   },
   "file_extension": ".py",
   "mimetype": "text/x-python",
   "name": "python",
   "nbconvert_exporter": "python",
   "pygments_lexer": "ipython3",
   "version": "3.11.5"
  }
 },
 "nbformat": 4,
 "nbformat_minor": 5
}
